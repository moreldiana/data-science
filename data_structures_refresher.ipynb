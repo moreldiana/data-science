{
 "cells": [
  {
   "cell_type": "markdown",
   "id": "a82398a2",
   "metadata": {},
   "source": [
    "# Data Structures Refresher"
   ]
  },
  {
   "cell_type": "markdown",
   "id": "9760e7d6",
   "metadata": {},
   "source": [
    "## Basic Data Types\n",
    "### Numerics\n",
    "### Strings \n",
    "### Booleans \n",
    "### None"
   ]
  },
  {
   "cell_type": "markdown",
   "id": "c46eba0e",
   "metadata": {},
   "source": [
    "## Iterables\n",
    "Python natively provides four main types of iterables:\n",
    "1. Lists\n",
    "2. Tuples\n",
    "3. Dictionaries\n",
    "4. Sets"
   ]
  },
  {
   "cell_type": "markdown",
   "id": "8a0e942b",
   "metadata": {},
   "source": [
    "### Lists\n",
    "Lists are denoted with square brackets []. Lists are able to be updated, making them an ideal choice for iterables that are extracted from another source.\n",
    "\n",
    "Lists that generate from other iterables can be quite nicely constructed using the syntax:\n",
    " \n",
    "[i for i in iterable]"
   ]
  },
  {
   "cell_type": "code",
   "execution_count": 34,
   "id": "cc4aebeb",
   "metadata": {},
   "outputs": [
    {
     "data": {
      "text/plain": [
       "['P', 'Y', 'T', 'H', 'O', 'N']"
      ]
     },
     "execution_count": 34,
     "metadata": {},
     "output_type": "execute_result"
    }
   ],
   "source": [
    "text = \"Python\"\n",
    "capital_list = [i.capitalize() for i in text]\n",
    "capital_list"
   ]
  },
  {
   "cell_type": "markdown",
   "id": "5f20f34f",
   "metadata": {},
   "source": [
    "### Tuples\n",
    "Tuples, denoted with round brackets (), are essentially lists that can not be updated. Saving a large iterable as a tuple instead of a list can save substantially on memory space."
   ]
  },
  {
   "cell_type": "markdown",
   "id": "b3914c9a",
   "metadata": {},
   "source": [
    "### Dictionaries\n",
    "Dictionaries, denoted with curly brackets {}, are iterables where the index need not be ascending integers. Dictionaries in this way behave like a two-column relational database. The index is called a \"key\" in this case. The way to declare key-values pairs in dictionaries is as follows:\n",
    "\n",
    "{key1: value2, key2: value2}"
   ]
  },
  {
   "cell_type": "code",
   "execution_count": 35,
   "id": "cca08a26",
   "metadata": {},
   "outputs": [
    {
     "data": {
      "text/plain": [
       "{'Hello': 'world'}"
      ]
     },
     "execution_count": 35,
     "metadata": {},
     "output_type": "execute_result"
    }
   ],
   "source": [
    "d = {}\n",
    "d['Hello'] = 'world'\n",
    "d"
   ]
  },
  {
   "cell_type": "markdown",
   "id": "7a57761c",
   "metadata": {},
   "source": [
    "### Sets\n",
    "Sets, denoted with curly brackets as well, are ordered lists where there are no duplicate elements. Python assumes that anything in curly brackets that does not specify key-value pairings is a set. The built-in set() function can be used to convert tuples or lists to sets, which is the fastest way to remove duplicates from those iterables in Python."
   ]
  },
  {
   "cell_type": "code",
   "execution_count": 36,
   "id": "c838abab",
   "metadata": {},
   "outputs": [
    {
     "data": {
      "text/plain": [
       "{'a', 'b', 'd', 'f', 'y', 'z'}"
      ]
     },
     "execution_count": 36,
     "metadata": {},
     "output_type": "execute_result"
    }
   ],
   "source": [
    "letters = ['a','b','b','z','d','f','a','f','y']\n",
    "set(letters)"
   ]
  },
  {
   "cell_type": "markdown",
   "id": "7ef337ad",
   "metadata": {},
   "source": [
    "## Functions & Classes"
   ]
  },
  {
   "cell_type": "markdown",
   "id": "5ac19eb0",
   "metadata": {},
   "source": [
    "### Functions"
   ]
  },
  {
   "cell_type": "code",
   "execution_count": 37,
   "id": "11ac79a4",
   "metadata": {},
   "outputs": [
    {
     "data": {
      "text/plain": [
       "2"
      ]
     },
     "execution_count": 37,
     "metadata": {},
     "output_type": "execute_result"
    }
   ],
   "source": [
    "a = 1\n",
    "\n",
    "def f():\n",
    "  return a + 1\n",
    "\n",
    "f()"
   ]
  },
  {
   "cell_type": "code",
   "execution_count": 38,
   "id": "0ddacd1c",
   "metadata": {},
   "outputs": [
    {
     "data": {
      "text/plain": [
       "2"
      ]
     },
     "execution_count": 38,
     "metadata": {},
     "output_type": "execute_result"
    }
   ],
   "source": [
    "def f(a):\n",
    "  def g(a):\n",
    "    return a + 1\n",
    "  return g(a)\n",
    "\n",
    "f(1)"
   ]
  },
  {
   "cell_type": "code",
   "execution_count": 39,
   "id": "43a72d7e",
   "metadata": {},
   "outputs": [
    {
     "name": "stdout",
     "output_type": "stream",
     "text": [
      "There is 1 cow\n",
      "There are 2 dogs\n",
      "There are one cows\n"
     ]
    }
   ],
   "source": [
    "def count_animal(amount: int,animal='cow'):\n",
    "  if amount == 1:\n",
    "    return 'There is ' + str(amount) + ' ' + animal\n",
    "  else:\n",
    "    return 'There are ' + str(amount) + ' ' + animal + 's'\n",
    "\n",
    "print(count_animal(1))\n",
    "print(count_animal(2,'dog'))\n",
    "print(count_animal('one'))"
   ]
  },
  {
   "cell_type": "markdown",
   "id": "7097a0c9",
   "metadata": {},
   "source": [
    "### Classes\n",
    "Python classes are initialized via an __init__ function. The syntax of __function__ is used to define many class-specific interactions with basic Python functions, such as __str__ being used to define what str() should return when passed an instance of that class."
   ]
  },
  {
   "cell_type": "code",
   "execution_count": 40,
   "id": "92091f8a",
   "metadata": {},
   "outputs": [
    {
     "name": "stdout",
     "output_type": "stream",
     "text": [
      "This is a cow\n",
      "Moo!\n"
     ]
    }
   ],
   "source": [
    "class Animal():\n",
    "  def __init__(self, species, sound):\n",
    "    self.species = species\n",
    "    self.sound = sound\n",
    "  def __str__(self):\n",
    "    return self.species\n",
    "  def make_sound(self):\n",
    "    print(self.sound.capitalize()+'!')\n",
    "\n",
    "cow = Animal('cow','moo')\n",
    "print('This is a',cow)\n",
    "cow.make_sound()"
   ]
  },
  {
   "cell_type": "markdown",
   "id": "540451ea",
   "metadata": {},
   "source": [
    "####Practice \"Find the Missing Number\"\n",
    "\n",
    "You have an array of integers, nums of length n spanning 0 to n with one missing. Write a function missing_number that returns the missing number in the array.\n",
    "\n",
    "Input:\n",
    "\n",
    "nums = [0,1,2,4,5] \n",
    "missing_number(nums) -> 3"
   ]
  },
  {
   "cell_type": "code",
   "execution_count": 41,
   "id": "f2e07da6",
   "metadata": {},
   "outputs": [
    {
     "data": {
      "text/plain": [
       "3"
      ]
     },
     "execution_count": 41,
     "metadata": {},
     "output_type": "execute_result"
    }
   ],
   "source": [
    "nums = [0,1,2,4,5] \n",
    "\n",
    "def missing_number(nums):\n",
    "    num_set = set(nums)\n",
    "    n = len(nums) + 1\n",
    "    for number in range(n):\n",
    "        if number not in num_set:\n",
    "            return number \n",
    "        \n",
    "missing_number(nums)"
   ]
  },
  {
   "cell_type": "markdown",
   "id": "c134ee22",
   "metadata": {},
   "source": [
    "####Practice \"Find Bigrams\"\n",
    "\n",
    "Write a function called find_bigrams that takes a sentence or paragraph of strings and returns a list of all bigrams.\n",
    "\n",
    "Input:\n",
    "\n",
    "sentence = \"\"\"\n",
    "Have free hours and love children? \n",
    "Drive kids to school, soccer practice \n",
    "and other activities.\n",
    "\"\"\""
   ]
  },
  {
   "cell_type": "code",
   "execution_count": 42,
   "id": "ea54387a",
   "metadata": {},
   "outputs": [
    {
     "data": {
      "text/plain": [
       "[('have', 'free'),\n",
       " ('free', 'hours'),\n",
       " ('hours', 'and'),\n",
       " ('and', 'love'),\n",
       " ('love', 'children?'),\n",
       " ('children?', 'drive'),\n",
       " ('drive', 'kids'),\n",
       " ('kids', 'to'),\n",
       " ('to', 'school,'),\n",
       " ('school,', 'soccer'),\n",
       " ('soccer', 'practice'),\n",
       " ('practice', 'and'),\n",
       " ('and', 'other'),\n",
       " ('other', 'activities.')]"
      ]
     },
     "execution_count": 42,
     "metadata": {},
     "output_type": "execute_result"
    }
   ],
   "source": [
    "sentence = \"\"\" Have free hours and love children? Drive kids to school, soccer practice and other activities. \"\"\"\n",
    "\n",
    "def find_bigrams(sentence):\n",
    "    input_list = sentence.split()\n",
    "    bigram_list = []\n",
    "    \n",
    "    # Now we loop through each word\n",
    "    for i in range(len(input_list)-1):\n",
    "        #strip the whitespace and lower the word to ensure consistency\n",
    "        bigram_list.append((input_list[i].strip().lower(), input_list[i+1].strip().lower()))\n",
    "    return bigram_list\n",
    "\n",
    "find_bigrams(sentence)"
   ]
  },
  {
   "cell_type": "markdown",
   "id": "422c8967",
   "metadata": {},
   "source": [
    "####Practice \"Merge Sorted Lists\"\n",
    "\n",
    "Given two sorted lists, write a function to merge them into one sorted list.\n",
    "\n",
    "Bonus: What’s the time complexity?\n",
    "\n",
    "Example:\n",
    "\n",
    "Input:\n",
    "\n",
    "list1 = [1,2,5]\n",
    "list2 = [2,4,6]\n",
    "\n",
    "Output:\n",
    "\n",
    "def merge_list(list1,list2) -> [1,2,2,4,5,6]"
   ]
  },
  {
   "cell_type": "code",
   "execution_count": 43,
   "id": "5a2daa7f",
   "metadata": {},
   "outputs": [
    {
     "name": "stdout",
     "output_type": "stream",
     "text": [
      "[1, 2, 2, 4, 5, 6]\n"
     ]
    }
   ],
   "source": [
    "list1 = [1,2,5] \n",
    "list2 = [2,4,6]\n",
    "list3 = []\n",
    "\n",
    "def merged_list(list1, list2):\n",
    "    merge = list1 + list2\n",
    "    order = merge.sort()\n",
    "    return print(merge)\n",
    "\n",
    "merged_list(list1, list2)"
   ]
  },
  {
   "cell_type": "code",
   "execution_count": 44,
   "id": "4b1a2bdb",
   "metadata": {},
   "outputs": [],
   "source": [
    "def merge_list(list1, list2): \n",
    "    list3 = []\n",
    "    i = 0\n",
    "    j = 0\n",
    "  \n",
    "    # Traverse both lists\n",
    "    # If the current element of first list\n",
    "    # is smaller than the current element\n",
    "    # of the second list, then store the\n",
    "    # first list's value and increment the index \n",
    "\n",
    "    while i < len(list1) and j < len(list2): \n",
    "      \n",
    "        if list1[i] < list2[j]: \n",
    "            list3.append(list1[i])\n",
    "            i = i + 1\n",
    "        else: \n",
    "            list3.append(list2[j])\n",
    "            j = j + 1\n",
    "      \n",
    "  \n",
    "    # Store remaining elements of the first list\n",
    "    while i < len(list1): \n",
    "        list3.append(list1[i])\n",
    "        i = i + 1\n",
    "  \n",
    "    # Store remaining elements of the second list\n",
    "    while j < len(list2): \n",
    "        list3.append(list2[j])\n",
    "        j = j + 1\n",
    "\n",
    "    return list3"
   ]
  },
  {
   "cell_type": "code",
   "execution_count": 45,
   "id": "3c3f9d0a",
   "metadata": {},
   "outputs": [
    {
     "name": "stdout",
     "output_type": "stream",
     "text": [
      "[1, 2, 2, 4, 5, 6]\n"
     ]
    }
   ],
   "source": [
    "merged_list(list1, list2)"
   ]
  },
  {
   "cell_type": "markdown",
   "id": "1e5b8a09",
   "metadata": {},
   "source": [
    "####Practice \"Permutation Palindrome\"\n",
    "\n",
    "Given a string str, write a function perm_palindrome to determine whether there exists a permutation of str that is a palindrome.\n",
    "\n",
    "Example:\n",
    "\n",
    "Input:\n",
    "\n",
    "str = 'carerac'\n",
    "def perm_palindrome(str) -> True"
   ]
  },
  {
   "cell_type": "code",
   "execution_count": null,
   "id": "e05e9cbc",
   "metadata": {},
   "outputs": [],
   "source": []
  }
 ],
 "metadata": {
  "kernelspec": {
   "display_name": "Python 3 (ipykernel)",
   "language": "python",
   "name": "python3"
  },
  "language_info": {
   "codemirror_mode": {
    "name": "ipython",
    "version": 3
   },
   "file_extension": ".py",
   "mimetype": "text/x-python",
   "name": "python",
   "nbconvert_exporter": "python",
   "pygments_lexer": "ipython3",
   "version": "3.9.10"
  }
 },
 "nbformat": 4,
 "nbformat_minor": 5
}
